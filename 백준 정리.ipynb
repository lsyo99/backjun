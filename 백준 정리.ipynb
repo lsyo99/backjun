{
 "cells": [
  {
   "cell_type": "markdown",
   "metadata": {},
   "source": [
    "## 백준"
   ]
  },
  {
   "cell_type": "markdown",
   "metadata": {},
   "source": [
    "### 1 분산 처리\n",
    "재용이는 최신 컴퓨터 10대를 가지고 있다. 어느 날 재용이는 많은 데이터를 처리해야 될 일이 생겨서 각 컴퓨터에 1번부터 10번까지의 번호를 부여하고, 10대의 컴퓨터가 다음과 같은 방법으로 데이터들을 처리하기로 하였다.\n",
    "\n",
    "1번 데이터는 1번 컴퓨터, 2번 데이터는 2번 컴퓨터, 3번 데이터는 3번 컴퓨터, ... ,\n",
    "\n",
    "10번 데이터는 10번 컴퓨터, 11번 데이터는 1번 컴퓨터, 12번 데이터는 2번 컴퓨터, ...\n",
    "\n",
    "총 데이터의 개수는 항상 ab개의 형태로 주어진다. 재용이는 문득 마지막 데이터가 처리될 컴퓨터의 번호가 궁금해졌다. 이를 수행해주는 프로그램을 작성하라.\n",
    "#### 입력\n",
    "입력의 첫 줄에는 테스트 케이스의 개수 T가 주어진다. 그 다음 줄부터 각각의 테스트 케이스에 대해 정수 a와 b가 주어진다. (1 ≤ a < 100, 1 ≤ b < 1,000,000)\n",
    "#### 출력\n",
    "각 테스트 케이스에 대해 마지막 데이터가 처리되는 컴퓨터의 번호를 출력한다.\n",
    "예제\n",
    "5\n",
    "1 6\n",
    "3 7\n",
    "6 2\n",
    "7 100\n",
    "9 635\n",
    "1\n",
    "7\n",
    "6\n",
    "1\n",
    "9"
   ]
  },
  {
   "cell_type": "code",
   "execution_count": null,
   "metadata": {},
   "outputs": [],
   "source": [
    "T = int(input())\n",
    "\n",
    "for _ in range(T):\n",
    "    a, b = map(int, input().split())\n",
    "    a = a % 10\n",
    "    \n",
    "    if a == 0:\n",
    "        print(10)\n",
    "    elif a == 1 or a == 5 or a == 6:\n",
    "        print(a)\n",
    "    elif a == 4 or a == 9:\n",
    "        b = b % 2\n",
    "        if b == 1:\n",
    "            print(a)\n",
    "        else:\n",
    "            print((a * a) % 10)\n",
    "    else:\n",
    "        b = b % 4\n",
    "        if b == 0:\n",
    "            print((a**4) % 10 % 10 % 10)\n",
    "        else:\n",
    "            print((a**b) % 10 % 10 % 10)\n",
    "\n"
   ]
  },
  {
   "cell_type": "markdown",
   "metadata": {},
   "source": [
    "### 2 명령 프롬프트\n",
    "#### 문제\n",
    "시작 -> 실행 -> cmd를 쳐보자. 검정 화면이 눈에 보인다. 여기서 dir이라고 치면 그 디렉토리에 있는 서브디렉토리와 파일이 모두 나온다. 이때 원하는 파일을 찾으려면 다음과 같이 하면 된다.\n",
    "\n",
    "dir *.exe라고 치면 확장자가 exe인 파일이 다 나온다. \"dir 패턴\"과 같이 치면 그 패턴에 맞는 파일만 검색 결과로 나온다. 예를 들어, dir a?b.exe라고 검색하면 파일명의 첫 번째 글자가 a이고, 세 번째 글자가 b이고, 확장자가 exe인 것이 모두 나온다. 이때 두 번째 문자는 아무거나 나와도 된다. 예를 들어, acb.exe, aab.exe, apb.exe가 나온다.\n",
    "\n",
    "이 문제는 검색 결과가 먼저 주어졌을 때, 패턴으로 뭘 쳐야 그 결과가 나오는지를 출력하는 문제이다. 패턴에는 알파벳과 \".\" 그리고 \"?\"만 넣을 수 있다. 가능하면 ?을 적게 써야 한다. 그 디렉토리에는 검색 결과에 나온 파일만 있다고 가정하고, 파일 이름의 길이는 모두 같다.\n",
    "#### 입력\n",
    "첫째 줄에 파일 이름의 개수 N이 주어진다. 둘째 줄부터 N개의 줄에는 파일 이름이 주어진다. N은 50보다 작거나 같은 자연수이고 파일 이름의 길이는 모두 같고 길이는 최대 50이다. 파일이름은 알파벳 소문자와 '.' 로만 이루어져 있다.\n",
    "\n",
    "#### 출력\n",
    "첫째 줄에 패턴을 출력하면 된다.\n",
    "\n",
    "#### 예제 입력 1 \n",
    "3\n",
    "config.sys\n",
    "config.inf\n",
    "configures\n",
    "예제 출력 1 \n",
    "config????"
   ]
  },
  {
   "cell_type": "code",
   "execution_count": null,
   "metadata": {},
   "outputs": [],
   "source": [
    "\n",
    "## 아이디어 :\n",
    "\n",
    "T = int(input())\n",
    "n_list = [input() for _ in range(T)]\n",
    "n_length = len(n_list[0])\n",
    "test = n_list[0]\n",
    "test = list(test)\n",
    "result_list = [list(word) for word in n_list]\n",
    "for i in range(0,n_length):\n",
    "    for j in range(0,T):\n",
    "        k=n_list[j]\n",
    "        if k[i] != test[i]:\n",
    "            test[i] = '?'\n",
    "print(''.join(test))\n",
    "             "
   ]
  },
  {
   "cell_type": "markdown",
   "metadata": {},
   "source": [
    "### 3 약수\n",
    "#### 문제\n",
    "양수 A가 N의 진짜 약수가 되려면, N이 A의 배수이고, A가 1과 N이 아니어야 한다. 어떤 수 N의 진짜 약수가 모두 주어질 때, N을 구하는 프로그램을 작성하시오.\n",
    "\n",
    "#### 입력\n",
    "첫째 줄에 N의 진짜 약수의 개수가 주어진다. 이 개수는 50보다 작거나 같은 자연수이다. 둘째 줄에는 N의 진짜 약수가 주어진다. 1,000,000보다 작거나 같고, 2보다 크거나 같은 자연수이고, 중복되지 않는다.\n",
    "\n",
    "#### 출력\n",
    "첫째 줄에 N을 출력한다. N은 항상 32비트 부호있는 정수로 표현할 수 있다.\n",
    "#### 예제 입력 1 \n",
    "2\n",
    "4 2\n",
    "#### 예제 출력 1 \n",
    "8"
   ]
  },
  {
   "cell_type": "code",
   "execution_count": 2,
   "metadata": {},
   "outputs": [
    {
     "name": "stdout",
     "output_type": "stream",
     "text": [
      "8\n"
     ]
    }
   ],
   "source": [
    "n_len = input()\n",
    "n_list = list(map(int,input().split()))\n",
    "n_list.sort()\n",
    "n = n_list[-1] * n_list[0]\n",
    "print(n)"
   ]
  },
  {
   "cell_type": "markdown",
   "metadata": {},
   "source": [
    "### 나누기\n",
    "#### 문제\n",
    "두 정수 N과 F가 주어진다. 지민이는 정수 N의 가장 뒤 두 자리를 적절히 바꿔서 N을 F로 나누어 떨어지게 만들려고 한다. 만약 가능한 것이 여러 가지이면, 뒤 두 자리를 가능하면 작게 만들려고 한다.\n",
    "\n",
    "예를 들어, N=275이고, F=5이면, 답은 00이다. 200이 5로 나누어 떨어지기 때문이다. N=1021이고, F=11이면, 정답은 01인데, 1001이 11로 나누어 떨어지기 때문이다.\n",
    "\n",
    "#### 입력\n",
    "첫째 줄에 N, 둘째 줄에 F가 주어진다. N은 100보다 크거나 같고, 2,000,000,000보다 작거나 같은 자연수이다. F는 100보다 작거나 같은 자연수이다.\n",
    "\n",
    "#### 출력\n",
    "첫째 줄에 마지막 두 자리를 모두 출력한다. 한자리이면 앞에 0을 추가해서 두 자리로 만들어야 한다.\n",
    "\n",
    "##### 예제 입력 1 \n",
    "1000\n",
    "3\n",
    "##### 예제 출력 1 \n",
    "02\n"
   ]
  },
  {
   "cell_type": "code",
   "execution_count": 20,
   "metadata": {},
   "outputs": [
    {
     "name": "stdout",
     "output_type": "stream",
     "text": [
      "09\n"
     ]
    }
   ],
   "source": [
    "# ### 아이디어 : 뒤에 두개의 숫자는 총 00~99까지 100개 이므로 01 부터 출력해서 나누어지면 출력\n",
    "\n",
    "n,f = input(),input()\n",
    "n_cj = int(n[0:-2]+'00')\n",
    "while True:\n",
    "    if n_cj % int(f) ==0:\n",
    "        break\n",
    "    n_cj+= 1\n",
    "result = str(n_cj)\n",
    "print(result[-2:])\n",
    "        "
   ]
  },
  {
   "cell_type": "markdown",
   "metadata": {},
   "source": [
    "### 저항\n",
    "전자 제품에는 저항이 들어간다. 저항은 색 3개를 이용해서 그 저항이 몇 옴인지 나타낸다. 처음 색 2개는 저항의 값이고, 마지막 색은 곱해야 하는 값이다. 저항의 값은 다음 표를 이용해서 구한다.\n",
    "\n",
    "|색\t|값|\t곱|\n",
    "|------|---|---|\n",
    "|black\t|0|\t1\n",
    "|brown\t|1|\t10\n",
    "|red\t|2|\t100\n",
    "|orange\t|3|\t1,000\n",
    "|yellow\t|4|\t10,000\n",
    "|green\t|5|\t100,000\n",
    "|blue\t|6|\t1,000,000\n",
    "|violet\t|7|\t10,000,000\n",
    "|grey\t|8|\t100,000,000\n",
    "|white|\t9\t|1,000,000,000\n",
    "\n",
    "예를 들어, 저항의 색이 yellow, violet, red였다면 저항의 값은 4,700이 된다.\n",
    "\n",
    "입력\n",
    "첫째 줄에 첫 번째 색, 둘째 줄에 두 번째 색, 셋째 줄에 세 번째 색이 주어진다. 위의 표에 있는 색만 입력으로 주어진다.\n",
    "\n",
    "출력\n",
    "입력으로 주어진 저항의 저항값을 계산하여 첫째 줄에 출력한다."
   ]
  },
  {
   "cell_type": "code",
   "execution_count": 30,
   "metadata": {},
   "outputs": [
    {
     "name": "stdout",
     "output_type": "stream",
     "text": [
      "2200\n"
     ]
    }
   ],
   "source": [
    "#아이디어 : 각각을 딕셔너리로 받아서 해당 키를 출력한다. \n",
    "#          하지만 곱에 있는 수들의 0의 개수가 값과 동일하기에 해당 키를 통해서 곱을 계산 \n",
    "a,b,c = input(),input(),input()\n",
    "dic = {'black': '0' ,'brown':'1','red':'2', 'orange':'3',\n",
    "'yellow':\t'4','green':'5','blue':'6','violet':'7','grey':'8','white':'9'}\n",
    "a = dic[a]\n",
    "b = dic[b]\n",
    "c = dic[c]\n",
    "ad = '0' * int(c)\n",
    "result = a+b+ad\n",
    "print(int(result))\n",
    "### 다른 방법\n",
    "color = ['black','brown','red','orange','yellow','green','blue','violet','grey','white']\n",
    "a = color.index(input())\n",
    "b = color.index(input())\n",
    "c = color.index(input())\n",
    "print((int(str(a)+str(b)))*(10**(c)))"
   ]
  },
  {
   "cell_type": "markdown",
   "metadata": {},
   "source": []
  },
  {
   "cell_type": "markdown",
   "metadata": {},
   "source": [
    "## 풀면서 공부했던 것들\n",
    "* 길이는 len()으로\n",
    "* 리스트를 합치는 것은 ''.join(리스트) -> '' 안에 있는 것을 기준으로 합친다 없으면 전체 합친다"
   ]
  },
  {
   "cell_type": "markdown",
   "metadata": {},
   "source": []
  }
 ],
 "metadata": {
  "kernelspec": {
   "display_name": "Python 3",
   "language": "python",
   "name": "python3"
  },
  "language_info": {
   "codemirror_mode": {
    "name": "ipython",
    "version": 3
   },
   "file_extension": ".py",
   "mimetype": "text/x-python",
   "name": "python",
   "nbconvert_exporter": "python",
   "pygments_lexer": "ipython3",
   "version": "3.12.0"
  }
 },
 "nbformat": 4,
 "nbformat_minor": 2
}
